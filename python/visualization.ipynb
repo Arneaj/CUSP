{
 "cells": [
  {
   "cell_type": "code",
   "execution_count": null,
   "id": "6be0b3ac",
   "metadata": {},
   "outputs": [],
   "source": [
    "import numpy as np \n",
    "import matplotlib as mpl\n",
    "%matplotlib widget\n",
    "import matplotlib.pyplot as plt\n",
    "\n",
    "import gorgon"
   ]
  },
  {
   "cell_type": "markdown",
   "id": "f705b7eb",
   "metadata": {},
   "source": [
    "# Define"
   ]
  },
  {
   "cell_type": "markdown",
   "id": "03b80dfa",
   "metadata": {},
   "source": [
    "## Import data"
   ]
  },
  {
   "cell_type": "code",
   "execution_count": null,
   "id": "5ef35bd6",
   "metadata": {},
   "outputs": [],
   "source": [
    "def import_stuff( filepath: str ):\n",
    "    B = gorgon.import_from_bin(f\"{filepath}/B_processed_real.bin\")\n",
    "\n",
    "    with open(f\"{filepath}/params_cpp.csv\", \"r\") as f:\n",
    "        params = np.array( f.readline().split(\",\"), dtype=np.float32 )\n",
    "        \n",
    "    interest_points_theta = []\n",
    "    interest_points_phi = []\n",
    "    interest_points_r = []\n",
    "    interest_points_w = []\n",
    "        \n",
    "    with open(f\"{filepath}/interest_points_cpp.csv\", \"r\") as f:\n",
    "        lines = f.readlines()\n",
    "\n",
    "        for line in lines:\n",
    "            point = np.array( line.split(\",\"), dtype=np.float32 )\n",
    "            interest_points_theta.append( point[0] )\n",
    "            interest_points_phi.append( point[1] )\n",
    "            interest_points_r.append( point[2] )\n",
    "            interest_points_w.append( (1-point[3], point[3], point[3]) )\n",
    "\n",
    "        interest_points_theta = np.array(interest_points_theta)\n",
    "        interest_points_phi = np.array(interest_points_phi)\n",
    "        interest_points_r = np.array(interest_points_r)\n",
    "        interest_points_w = np.array(interest_points_w)\n",
    "\n",
    "    return B, params, interest_points_theta, interest_points_phi, interest_points_r, interest_points_w"
   ]
  },
  {
   "cell_type": "markdown",
   "id": "5fd0bbc1",
   "metadata": {},
   "source": [
    "## Plot surface"
   ]
  },
  {
   "cell_type": "code",
   "execution_count": null,
   "id": "6604035c",
   "metadata": {},
   "outputs": [],
   "source": [
    "def plot_surface( filename: str ):\n",
    "    B, params, _, _, _, _ = import_stuff( filename )\n",
    "\n",
    "    theta, phi = np.meshgrid( np.linspace( 0, np.pi*0.9, 40 ), np.linspace( -np.pi, np.pi, 80 ), indexing='ij' )\n",
    "    R = gorgon.Me25_poly( params, theta, phi )\n",
    "\n",
    "    earth_pos = [29.75, 58, 58]\n",
    "\n",
    "    X,Y,Z = gorgon.spherical_to_cartesian( R, theta, phi, earth_pos )\n",
    "\n",
    "    B_thing = B[np.array(X, dtype=np.int16), np.array(Y, dtype=np.int16), np.array(Z, dtype=np.int16)]\n",
    "\n",
    "    B_thing_norm = np.linalg.norm( B_thing, axis=2 )\n",
    "\n",
    "    saturation = 0.8\n",
    "\n",
    "    B_thing_norm = B_thing_norm * (B_thing_norm < np.max(B_thing_norm)*saturation) + np.max(B_thing_norm)*saturation * (B_thing_norm >= np.max(B_thing_norm)*saturation)\n",
    "\n",
    "    color = (B_thing_norm - np.min(B_thing_norm)) / (np.max(B_thing_norm) - np.min(B_thing_norm))\n",
    "    cmap = plt.get_cmap(\"inferno\")\n",
    "    color = cmap( color )\n",
    "    \n",
    "    fig = plt.figure()\n",
    "    fig.set_figwidth(8)\n",
    "    fig.set_figheight(8)\n",
    "    ax = fig.add_subplot(projection='3d')\n",
    "    # ax.set(xlabel=r\"$x \\in [-30; 128] R_E$\", ylabel=r\"$y \\in [-58; 58] R_E$\", zlabel=r\"$z \\in [-58; 58] R_E$\")\n",
    "    # plt.suptitle(\"Surface of the magnetopause drawn from the fitted function.\")\n",
    "    # plt.title(\"Colours represent the norm of the magnetic field.\")\n",
    "\n",
    "    ax.set_xlim(0, B.shape[0])\n",
    "    ax.set_ylim(0, B.shape[1])\n",
    "    ax.set_zlim(0, B.shape[2])\n",
    "    \n",
    "    ax.patch.set_facecolor('black')\n",
    "    ax.set_axis_off()\n",
    "\n",
    "    ax.figure.subplots_adjust(0, 0, 1, 1)\n",
    "\n",
    "    ax.plot_surface(X, Y, Z, facecolors=color, shade=False)\n",
    "\n",
    "    norm = mpl.colors.Normalize(vmin=np.min(B_thing_norm), vmax=np.max(B_thing_norm))\n",
    "    fig.colorbar(mpl.cm.ScalarMappable(norm=norm, cmap=cmap),\n",
    "                    ax = ax, label=r\"$||\\mathbf{B}||$ [$T$]\", shrink=0.5)"
   ]
  },
  {
   "cell_type": "markdown",
   "id": "37fd2e0e",
   "metadata": {},
   "source": [
    "## Plot scatter"
   ]
  },
  {
   "cell_type": "code",
   "execution_count": null,
   "id": "1cd353e0",
   "metadata": {},
   "outputs": [],
   "source": [
    "def plot_scatter( filename: str ):\n",
    "    B, params, ip_theta, ip_phi, ip_r, ip_w = import_stuff( filename )\n",
    "\n",
    "    earth_pos = [29.75, 58, 58]\n",
    "\n",
    "    X,Y,Z = gorgon.spherical_to_cartesian( ip_r, ip_theta, ip_phi, earth_pos )\n",
    "    \n",
    "    fig = plt.figure()\n",
    "    fig.set_figwidth(8)\n",
    "    fig.set_figheight(8)\n",
    "    ax = fig.add_subplot(projection='3d')\n",
    "    # ax.set(xlabel=r\"$x \\in [-30; 128] R_E$\", ylabel=r\"$y \\in [-58; 58] R_E$\", zlabel=r\"$z \\in [-58; 58] R_E$\")\n",
    "    # plt.suptitle(\"Surface of the magnetopause drawn from the fitted function.\")\n",
    "    # plt.title(\"Colours represent the norm of the magnetic field.\")\n",
    "\n",
    "    ax.set_xlim(0, B.shape[0])\n",
    "    ax.set_ylim(0, B.shape[1])\n",
    "    ax.set_zlim(0, B.shape[2])\n",
    "    \n",
    "    ax.patch.set_facecolor('black')\n",
    "    ax.set_axis_off()\n",
    "\n",
    "    ax.figure.subplots_adjust(0, 0, 1, 1)\n",
    "\n",
    "    ax.scatter(X, Y, Z, c=ip_w)"
   ]
  },
  {
   "cell_type": "markdown",
   "id": "c6e69a67",
   "metadata": {},
   "source": [
    "# Main"
   ]
  },
  {
   "cell_type": "code",
   "execution_count": null,
   "id": "a92cc235",
   "metadata": {},
   "outputs": [],
   "source": [
    "plot_surface( \"../data/Run1_28800\" )"
   ]
  },
  {
   "cell_type": "code",
   "execution_count": null,
   "id": "a88705c7",
   "metadata": {},
   "outputs": [],
   "source": [
    "plt.close()"
   ]
  },
  {
   "cell_type": "markdown",
   "id": "2b9e31f5",
   "metadata": {},
   "source": [
    "# Rho"
   ]
  },
  {
   "cell_type": "code",
   "execution_count": null,
   "id": "1d172a68",
   "metadata": {},
   "outputs": [],
   "source": [
    "J_norm = gorgon.import_from_bin( \"/rds/general/user/avr24/home/Thesis/data/Run10_28800/J_norm_processed_real.bin\" )\n",
    "rho = gorgon.import_from_bin( \"../test_data/rho_10_28800.bin\" )\n",
    "\n",
    "fig, axes = plt.subplots(2, 2)\n",
    "fig.set_figwidth(10)\n",
    "fig.set_figheight(11)\n",
    "\n",
    "iy = 58\n",
    "\n",
    "J_norm_xy_i = J_norm[::-1,:,iy]\n",
    "J_norm_xz_i = J_norm[::-1,iy,:]\n",
    "\n",
    "rho_xy_i = rho[::-1,:,iy]\n",
    "rho_xz_i = rho[::-1,iy,:]\n",
    "\n",
    "J_xy = axes[0,0].imshow(J_norm_xy_i, cmap=\"inferno\", vmin=0, vmax=1e-9, interpolation=\"none\")\n",
    "plt.colorbar(J_xy, ax=axes[0,0])\n",
    "axes[0,0].set_title(fr\"$||J||$ in $({58},\\hat x, \\hat y)$ plane\")\n",
    "\n",
    "J_xz = axes[0,1].imshow(J_norm_xz_i, cmap=\"inferno\", vmin=0, vmax=1e-9, interpolation=\"none\")\n",
    "plt.colorbar(J_xz, ax=axes[0,1])\n",
    "axes[0,1].set_title(fr\"$||J||$ in $({58},\\hat z, \\hat x)$ plane\")\n",
    "\n",
    "\n",
    "rho_xy = axes[1,0].imshow(rho_xy_i, cmap=\"inferno\", vmin=0, vmax=5e-20, interpolation=\"none\")\n",
    "plt.colorbar(rho_xy, ax=axes[1,0])\n",
    "axes[1,0].set_title(fr\"$\\rho$ in $({58},\\hat x, \\hat y)$ plane\")\n",
    "\n",
    "rho_xz = axes[1,1].imshow(rho_xz_i, cmap=\"inferno\", vmin=0, vmax=5e-20, interpolation=\"none\")\n",
    "plt.colorbar(rho_xz, ax=axes[1,1])\n",
    "axes[1,1].set_title(fr\"$\\rho$ in $({58},\\hat z, \\hat x)$ plane\")\n",
    "\n",
    "\n",
    "\n",
    "axes[0,0].set_xlim(0, J_norm.shape[1]-1)\n",
    "axes[0,0].set_ylim(0, J_norm.shape[0]-1)\n",
    "axes[0,0].set(ylabel=r\"$x \\in [-30; 128] R_E$\", xlabel=r\"$y \\in [-58; 58] R_E$\")\n",
    "\n",
    "axes[0,1].set_xlim(0, J_norm.shape[2]-1)\n",
    "axes[0,1].set_ylim(0, J_norm.shape[0]-1)\n",
    "axes[0,1].set(ylabel=r\"$x \\in [-30; 128] R_E$\", xlabel=r\"$z \\in [-58; 58] R_E$\")\n",
    "\n",
    "axes[1,0].set_xlim(0, J_norm.shape[1]-1)\n",
    "axes[1,0].set_ylim(0, J_norm.shape[0]-1)\n",
    "axes[1,0].set(ylabel=r\"$x \\in [-30; 128] R_E$\", xlabel=r\"$y \\in [-58; 58] R_E$\")\n",
    "\n",
    "axes[1,1].set_xlim(0, J_norm.shape[2]-1)\n",
    "axes[1,1].set_ylim(0, J_norm.shape[0]-1)\n",
    "axes[1,1].set(ylabel=r\"$x \\in [-30; 128] R_E$\", xlabel=r\"$z \\in [-58; 58] R_E$\")"
   ]
  }
 ],
 "metadata": {
  "kernelspec": {
   "display_name": "base",
   "language": "python",
   "name": "python3"
  },
  "language_info": {
   "codemirror_mode": {
    "name": "ipython",
    "version": 3
   },
   "file_extension": ".py",
   "mimetype": "text/x-python",
   "name": "python",
   "nbconvert_exporter": "python",
   "pygments_lexer": "ipython3",
   "version": "3.12.9"
  }
 },
 "nbformat": 4,
 "nbformat_minor": 5
}
